{
 "cells": [
  {
   "cell_type": "markdown",
   "id": "91781a14",
   "metadata": {},
   "source": [
    "#### PyPi Package : NumPy"
   ]
  },
  {
   "cell_type": "code",
   "execution_count": 1,
   "id": "89be7d2f",
   "metadata": {},
   "outputs": [],
   "source": [
    "# pip install numpy\n",
    "import numpy as np"
   ]
  },
  {
   "cell_type": "code",
   "execution_count": 5,
   "id": "b3a8f226",
   "metadata": {},
   "outputs": [
    {
     "name": "stdout",
     "output_type": "stream",
     "text": [
      "[1, 2, 3, 1, 2, 3]\n",
      "[2, 4, 6]\n",
      "[2 4 6]\n"
     ]
    }
   ],
   "source": [
    "# Given lists\n",
    "list1 = [1, 2, 3]\n",
    "list2 = [1, 2, 3]\n",
    "print(list1+list2)\n",
    "\n",
    "\n",
    "# # Initialize an empty list to store the results\n",
    "result = []\n",
    "\n",
    "# Loop through the lists using the index\n",
    "for i in range(len(list1)):\n",
    "    # Add corresponding elements and append to the result list\n",
    "    sum_value = list1[i] + list2[i]\n",
    "    result.append(sum_value)\n",
    "\n",
    "# Print the result\n",
    "print(result)\n",
    "\n",
    "print(np.array(list1)+np.array(list2))\n"
   ]
  },
  {
   "cell_type": "markdown",
   "id": "cce1a17a",
   "metadata": {},
   "source": [
    "# Linear Algebra"
   ]
  },
  {
   "cell_type": "code",
   "execution_count": 7,
   "id": "925aff76",
   "metadata": {},
   "outputs": [
    {
     "name": "stdout",
     "output_type": "stream",
     "text": [
      "\n",
      "[[19 22]\n",
      " [43 50]]\n"
     ]
    }
   ],
   "source": [
    "a=np.array([[1,2],[3,4]])\n",
    "b=np.array([[5,6],[7,8]])\n",
    "\n",
    "print(\"\")\n",
    "print(np.matmul(a, b))\n"
   ]
  },
  {
   "cell_type": "markdown",
   "id": "cc457509",
   "metadata": {},
   "source": [
    "# Statistics"
   ]
  },
  {
   "cell_type": "code",
   "execution_count": 23,
   "id": "579ec89f",
   "metadata": {},
   "outputs": [
    {
     "name": "stdout",
     "output_type": "stream",
     "text": [
      "1\n",
      "[3 6]\n",
      "6\n",
      "21\n",
      "[5 7 9]\n",
      "Mean 3.5\n",
      "3.5\n",
      "median 3.5\n",
      "Median for each row [4. 2.]\n",
      "Median from odd number 4.0\n",
      "Median from even number 4.5\n"
     ]
    }
   ],
   "source": [
    "stats = np.array([[1, 2, 3], [4, 5, 6]])\n",
    "print(np.min(stats))\n",
    "print(np.max(stats, axis=1))\n",
    "print(np.max(stats))\n",
    "print(np.sum(stats))\n",
    "print(np.sum(stats, axis=0))\n",
    "print(\"Mean\",np.mean(stats))\n",
    "print((1+2+3+4+5+6)/6)\n",
    "\n",
    "stats1 = np.array([[5, 4, 3], [2, 1, 6]])\n",
    "print(\"median\",np.median(stats1))\n",
    "stats2 = np.array([[5, 4, 3], [2, 1, 6]])\n",
    "print(\"Median for each row\",np.median(stats2, axis=1))\n",
    "stats3 = np.array([2,3,4,5,6,1,7])\n",
    "print(\"Median from odd number\",np.median(stats3))\n",
    "stats4 = np.array([2,3,4,5,6,1,7,8])\n",
    "print(\"Median from even number\",np.median(stats4))\n"
   ]
  },
  {
   "cell_type": "markdown",
   "id": "6229d999",
   "metadata": {},
   "source": [
    "# Reorganizing Arrays"
   ]
  }
 ],
 "metadata": {
  "kernelspec": {
   "display_name": "Python 3",
   "language": "python",
   "name": "python3"
  },
  "language_info": {
   "codemirror_mode": {
    "name": "ipython",
    "version": 3
   },
   "file_extension": ".py",
   "mimetype": "text/x-python",
   "name": "python",
   "nbconvert_exporter": "python",
   "pygments_lexer": "ipython3",
   "version": "3.11.7"
  }
 },
 "nbformat": 4,
 "nbformat_minor": 5
}
