{
 "cells": [
  {
   "cell_type": "code",
   "execution_count": 1,
   "id": "1a2b3c",
   "metadata": {},
   "outputs": [
    {
     "name": "stdout",
     "output_type": "stream",
     "text": [
      "welcome to python\n"
     ]
    }
   ],
   "source": [
    "# syntax to print welcome message\n",
    "print(\"welcome to python\")"
   ]
  },
  {
   "cell_type": "code",
   "execution_count": 2,
   "id": "03f5d7c8",
   "metadata": {},
   "outputs": [
    {
     "data": {
      "text/plain": [
       "\"\\nthis\\nis\\nmultiline\\ncomments\\n\\nthese comments will not be executed by the python compiler. \\nit is for your/anyone's understading or future reference\\n\\n\""
      ]
     },
     "execution_count": 2,
     "metadata": {},
     "output_type": "execute_result"
    }
   ],
   "source": [
    "# comments\n",
    "\n",
    "# this is single line comments\n",
    "\"\"\"\n",
    "this\n",
    "is\n",
    "multiline\n",
    "comments\n",
    "\n",
    "these comments will not be executed by the python compiler. \n",
    "it is for your/anyone's understading or future reference\n",
    "\n",
    "\"\"\""
   ]
  },
  {
   "cell_type": "code",
   "execution_count": 14,
   "id": "c110697e",
   "metadata": {},
   "outputs": [
    {
     "name": "stdout",
     "output_type": "stream",
     "text": [
      "10 101 11 102\n",
      "13\n"
     ]
    }
   ],
   "source": [
    "## Variable declaration\n",
    "\n",
    "# case sensitive\n",
    "\n",
    "x = 10 # it can start with small letter\n",
    "xValue = 11 # it can start with small letter\n",
    "X = 101 # it can start with capital letter\n",
    "XValue = 102 # it can start with capital letter\n",
    "print(x,X, xValue, XValue)\n",
    "\n",
    "_x = 13 # it can start with underscore\n",
    "\n",
    "print(_x)\n",
    "\n",
    "# cannot start with any numbers\n",
    "# cannot start with any other symbols other than _(underscore)"
   ]
  },
  {
   "cell_type": "code",
   "execution_count": 16,
   "id": "4d5e6f",
   "metadata": {},
   "outputs": [
    {
     "name": "stdout",
     "output_type": "stream",
     "text": [
      "104\n",
      "11.1\n",
      "karthick\n",
      "AG\n",
      "TN-'Trichy\n",
      "TN-\"Trichy\n",
      "TN-\"Trichy\"\n",
      "TN-'Trichykfhkslhfk jhklkjhljkhlk\n",
      "welcome to python\n",
      "programming\n",
      "first session on accessing tools\n",
      "welcome to python\n",
      "\n",
      "\n",
      "programming\n",
      "first session on accessing tools\n",
      "welcome to python\n",
      "programming\n",
      "first session on accessing tools\n",
      "\n"
     ]
    }
   ],
   "source": [
    "# Initialize variables\n",
    "\n",
    "x = 104\n",
    "print(x)\n",
    "y = 11.1\n",
    "print(y)\n",
    "lname = \"karthick\"  # Last name\n",
    "print(lname)\n",
    "fname = 'AG'  # First name\n",
    "print(fname)\n",
    "areaname = 'TN-\\'Trichy'  # Area name with an escaped single quote\n",
    "print(areaname)\n",
    "areaname = \"TN-\\\"Trichy\"  # Area name with an escaped single quote\n",
    "print(areaname)\n",
    "areaname = 'TN-\"Trichy\"'  # Area name with an escaped single quote\n",
    "print(areaname)\n",
    "areaname = \"TN-'Trichykfhkslhfk jhklkjhljkhlk\"  # Area name with an escaped single quote\n",
    "print(areaname)\n",
    "longstr = '''welcome to python\n",
    "programming\n",
    "first session on accessing tools\n",
    "welcome to python\n",
    "\n",
    "\n",
    "programming\n",
    "first session on accessing tools\n",
    "welcome to python\n",
    "programming\n",
    "first session on accessing tools\n",
    "'''\n",
    "print(longstr)"
   ]
  },
  {
   "cell_type": "code",
   "execution_count": 22,
   "id": "7g8h9i",
   "metadata": {},
   "outputs": [
    {
     "name": "stdout",
     "output_type": "stream",
     "text": [
      "104\n",
      "<class 'int'>\n",
      "11.1\n",
      "<class 'float'>\n",
      "AG\n",
      "<class 'str'>\n",
      "<class 'str'>\n",
      "<class 'str'>\n",
      "<class 'str'>\n"
     ]
    }
   ],
   "source": [
    "# Print types of variables\n",
    "\n",
    "# type(variable name)\n",
    "print(x)\n",
    "print(type(x))\n",
    "print(y)\n",
    "print(type(y))\n",
    "print(fname)\n",
    "print(type(fname))\n",
    "print(type(lname))\n",
    "print(type(areaname))\n",
    "print(type(longstr))"
   ]
  },
  {
   "cell_type": "code",
   "execution_count": null,
   "id": "3m4n5o",
   "metadata": {},
   "outputs": [],
   "source": [
    "# Print messages with quotes\n",
    "print(\"welcome to python's class\")\n",
    "print('welcome to python\"s class')"
   ]
  },
  {
   "cell_type": "code",
   "execution_count": 45,
   "id": "6p7q8r",
   "metadata": {},
   "outputs": [
    {
     "name": "stdout",
     "output_type": "stream",
     "text": [
      "[10, 20, 30]\n",
      "10\n",
      "20\n",
      "30\n"
     ]
    }
   ],
   "source": [
    "# Initialize list with various elements\n",
    "x = [10, 20, 30]\n",
    "\n",
    "\n",
    "print(x)\n",
    "print(x[0])\n",
    "print(x[1])\n",
    "print(x[2])"
   ]
  },
  {
   "cell_type": "code",
   "execution_count": 47,
   "id": "a60760ef",
   "metadata": {},
   "outputs": [
    {
     "name": "stdout",
     "output_type": "stream",
     "text": [
      "[2224343422, 20, 30, 11.2, 'fdfdskjl', [232, 434.33]]\n",
      "(2224343422, 20, 30, 11.2, 'fdfdskjl', [232, 434.33])\n",
      "2224343422\n",
      "20\n",
      "30\n",
      "11.2\n",
      "fdfdskjl\n",
      "[232, 434.33]\n",
      "232\n",
      "434.33\n"
     ]
    }
   ],
   "source": [
    "# Initialize tuple with various elements\n",
    "x = (10, 20, 30,11.2,'fdfdskjl',[232,434.33])\n",
    "\n",
    "# trying to convert tuple into list to do manipulation\n",
    "x1 = list(x)\n",
    "x1[0]=2224343422\n",
    "x = tuple(x1) # converting back to tuple\n",
    "\n",
    "print(x1)\n",
    "print(x)\n",
    "print(x[0])\n",
    "print(x[1])\n",
    "print(x[2])\n",
    "print(x[3])\n",
    "print(x[4])\n",
    "print(x[5])\n",
    "print(x[5][0])\n",
    "print(x[5][1])\n"
   ]
  },
  {
   "cell_type": "code",
   "execution_count": 57,
   "id": "273621e6",
   "metadata": {},
   "outputs": [
    {
     "name": "stdout",
     "output_type": "stream",
     "text": [
      "{10, 20, 30}\n"
     ]
    }
   ],
   "source": [
    "# # Initialize set with various elements\n",
    "x = {10, 20, 30}\n",
    "print(x)\n"
   ]
  },
  {
   "cell_type": "code",
   "execution_count": 46,
   "id": "bf615c9c",
   "metadata": {},
   "outputs": [
    {
     "name": "stdout",
     "output_type": "stream",
     "text": [
      "karthick\n",
      "22\n",
      "24\n",
      "{'name': 'karthick', 'age': 24}\n",
      "{'name': 'karthick', 'age': 24, 'city': 'Trichy'}\n"
     ]
    }
   ],
   "source": [
    "# # # Initialize dictionary with various elements\n",
    "x = {\"name\":\"karthick\", \"age\":22}\n",
    "print(x[\"name\"])\n",
    "print(x[\"age\"])\n",
    "\n",
    "x[\"age\"]=24\n",
    "print(x[\"age\"])\n",
    "print(x)\n",
    "\n",
    "x[\"city\"]=\"Trichy\"\n",
    "print(x)\n"
   ]
  },
  {
   "cell_type": "code",
   "execution_count": 62,
   "id": "505c500d",
   "metadata": {},
   "outputs": [],
   "source": [
    "# # Initialize list with various elements"
   ]
  },
  {
   "cell_type": "code",
   "execution_count": 59,
   "id": "f400fadc",
   "metadata": {},
   "outputs": [
    {
     "name": "stdout",
     "output_type": "stream",
     "text": [
      "[10, 20, 30, 'ragu']\n",
      "10\n",
      "20\n",
      "30\n",
      "ragu\n"
     ]
    }
   ],
   "source": [
    "\n",
    "x = [10, 20, 30, 'ragu']\n",
    "\n",
    "print(x)\n",
    "print(x[0])\n",
    "print(x[1])\n",
    "print(x[2])\n",
    "print(x[3])"
   ]
  },
  {
   "cell_type": "code",
   "execution_count": 58,
   "id": "d2d454c9",
   "metadata": {},
   "outputs": [
    {
     "name": "stdout",
     "output_type": "stream",
     "text": [
      "[10, 20, 30, 'ragu', 11.2, [34, 33]]\n",
      "10\n",
      "20\n",
      "30\n",
      "ragu\n",
      "11.2\n",
      "[34, 33]\n",
      "34\n",
      "33\n"
     ]
    }
   ],
   "source": [
    "x = [10, 20, 30, 'ragu', 11.2, [34, 33]]\n",
    "\n",
    "print(x)\n",
    "print(x[0])\n",
    "print(x[1])\n",
    "print(x[2])\n",
    "print(x[3])\n",
    "print(x[4])\n",
    "print(x[5])\n",
    "print(x[5][0])\n",
    "print(x[5][1])"
   ]
  },
  {
   "cell_type": "code",
   "execution_count": 4,
   "id": "e0afd765",
   "metadata": {},
   "outputs": [
    {
     "name": "stdout",
     "output_type": "stream",
     "text": [
      "[22222, 20, 30, 11.2, 'ragu', [232, 434.33]]\n",
      "22222\n",
      "20\n",
      "30\n",
      "11.2\n",
      "ragu\n",
      "[232, 434.33]\n",
      "232\n",
      "434.33\n"
     ]
    }
   ],
   "source": [
    "\n",
    "x = [10, 20, 30,11.2,'ragu',[232,434.33]]\n",
    "x[0]=22222\n",
    "\n",
    "# print(x1)\n",
    "print(x)\n",
    "print(x[0])\n",
    "print(x[1])\n",
    "print(x[2])\n",
    "print(x[3])\n",
    "print(x[4])\n",
    "print(x[5])\n",
    "print(x[5][0])\n",
    "print(x[5][1])"
   ]
  }
 ],
 "metadata": {
  "kernelspec": {
   "display_name": "Python 3",
   "language": "python",
   "name": "python3"
  },
  "language_info": {
   "codemirror_mode": {
    "name": "ipython",
    "version": 3
   },
   "file_extension": ".py",
   "mimetype": "text/x-python",
   "name": "python",
   "nbconvert_exporter": "python",
   "pygments_lexer": "ipython3",
   "version": "3.11.7"
  }
 },
 "nbformat": 4,
 "nbformat_minor": 5
}
