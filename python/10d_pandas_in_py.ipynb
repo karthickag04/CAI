{
 "cells": [
  {
   "cell_type": "code",
   "execution_count": 1,
   "id": "e6a8e103",
   "metadata": {},
   "outputs": [],
   "source": [
    "import pandas as pd"
   ]
  },
  {
   "cell_type": "code",
   "execution_count": 2,
   "id": "7057cffe",
   "metadata": {},
   "outputs": [],
   "source": [
    "df = pd.read_json('data/studentmarks.json')"
   ]
  },
  {
   "cell_type": "code",
   "execution_count": 4,
   "id": "80a7ff6b",
   "metadata": {},
   "outputs": [
    {
     "data": {
      "text/plain": [
       "\"                                                                                                                             students\\n0    {'id': 1, 'name': 'Arun Kumar', 'class': '10A', 'marks': {'maths': 85, 'science': 90, 'english': 78, 'social': 88, 'tamil': 92}}\\n1  {'id': 2, 'name': 'Priya Sharma', 'class': '10A', 'marks': {'maths': 95, 'science': 89, 'english': 82, 'social': 91, 'tamil': 87}}\\n2      {'id': 3, 'name': 'Ravi Raj', 'class': '10B', 'marks': {'maths': 76, 'science': 72, 'english': 80, 'social': 85, 'tamil': 90}}\""
      ]
     },
     "execution_count": 4,
     "metadata": {},
     "output_type": "execute_result"
    }
   ],
   "source": [
    "df.to_string()"
   ]
  },
  {
   "cell_type": "markdown",
   "id": "054d7a5f",
   "metadata": {},
   "source": [
    "# use of json_normalize\n",
    "\n",
    "    # df = pd.json_normalize(df[\"students\"], sep=\"_\")\n",
    "\n",
    "\n"
   ]
  },
  {
   "cell_type": "code",
   "execution_count": null,
   "id": "91a18700",
   "metadata": {},
   "outputs": [],
   "source": [
    "df = pd.json_normalize(df[\"students\"], sep=\"_\")"
   ]
  },
  {
   "cell_type": "code",
   "execution_count": null,
   "id": "d7015431",
   "metadata": {},
   "outputs": [],
   "source": []
  },
  {
   "cell_type": "code",
   "execution_count": null,
   "id": "28e2f023",
   "metadata": {},
   "outputs": [
    {
     "data": {
      "text/html": [
       "<div>\n",
       "<style scoped>\n",
       "    .dataframe tbody tr th:only-of-type {\n",
       "        vertical-align: middle;\n",
       "    }\n",
       "\n",
       "    .dataframe tbody tr th {\n",
       "        vertical-align: top;\n",
       "    }\n",
       "\n",
       "    .dataframe thead th {\n",
       "        text-align: right;\n",
       "    }\n",
       "</style>\n",
       "<table border=\"1\" class=\"dataframe\">\n",
       "  <thead>\n",
       "    <tr style=\"text-align: right;\">\n",
       "      <th></th>\n",
       "      <th>id</th>\n",
       "      <th>name</th>\n",
       "      <th>class</th>\n",
       "      <th>marks_maths</th>\n",
       "      <th>marks_science</th>\n",
       "      <th>marks_english</th>\n",
       "      <th>marks_social</th>\n",
       "      <th>marks_tamil</th>\n",
       "    </tr>\n",
       "  </thead>\n",
       "  <tbody>\n",
       "    <tr>\n",
       "      <th>0</th>\n",
       "      <td>1</td>\n",
       "      <td>Arun Kumar</td>\n",
       "      <td>10A</td>\n",
       "      <td>85</td>\n",
       "      <td>90</td>\n",
       "      <td>78</td>\n",
       "      <td>88</td>\n",
       "      <td>92</td>\n",
       "    </tr>\n",
       "    <tr>\n",
       "      <th>1</th>\n",
       "      <td>2</td>\n",
       "      <td>Priya Sharma</td>\n",
       "      <td>10A</td>\n",
       "      <td>95</td>\n",
       "      <td>89</td>\n",
       "      <td>82</td>\n",
       "      <td>91</td>\n",
       "      <td>87</td>\n",
       "    </tr>\n",
       "    <tr>\n",
       "      <th>2</th>\n",
       "      <td>3</td>\n",
       "      <td>Ravi Raj</td>\n",
       "      <td>10B</td>\n",
       "      <td>76</td>\n",
       "      <td>72</td>\n",
       "      <td>80</td>\n",
       "      <td>85</td>\n",
       "      <td>90</td>\n",
       "    </tr>\n",
       "  </tbody>\n",
       "</table>\n",
       "</div>"
      ],
      "text/plain": [
       "   id          name class  marks_maths  marks_science  marks_english  \\\n",
       "0   1    Arun Kumar   10A           85             90             78   \n",
       "1   2  Priya Sharma   10A           95             89             82   \n",
       "2   3      Ravi Raj   10B           76             72             80   \n",
       "\n",
       "   marks_social  marks_tamil  \n",
       "0            88           92  \n",
       "1            91           87  \n",
       "2            85           90  "
      ]
     },
     "execution_count": 6,
     "metadata": {},
     "output_type": "execute_result"
    }
   ],
   "source": []
  },
  {
   "cell_type": "markdown",
   "id": "f11899c5",
   "metadata": {},
   "source": [
    "# alternate to json_normalize"
   ]
  },
  {
   "cell_type": "code",
   "execution_count": 13,
   "id": "78c4bf1e",
   "metadata": {},
   "outputs": [
    {
     "data": {
      "text/html": [
       "<div>\n",
       "<style scoped>\n",
       "    .dataframe tbody tr th:only-of-type {\n",
       "        vertical-align: middle;\n",
       "    }\n",
       "\n",
       "    .dataframe tbody tr th {\n",
       "        vertical-align: top;\n",
       "    }\n",
       "\n",
       "    .dataframe thead th {\n",
       "        text-align: right;\n",
       "    }\n",
       "</style>\n",
       "<table border=\"1\" class=\"dataframe\">\n",
       "  <thead>\n",
       "    <tr style=\"text-align: right;\">\n",
       "      <th></th>\n",
       "      <th>students</th>\n",
       "    </tr>\n",
       "  </thead>\n",
       "  <tbody>\n",
       "    <tr>\n",
       "      <th>0</th>\n",
       "      <td>{'id': 1, 'name': 'Arun Kumar', 'class': '10A'...</td>\n",
       "    </tr>\n",
       "    <tr>\n",
       "      <th>1</th>\n",
       "      <td>{'id': 2, 'name': 'Priya Sharma', 'class': '10...</td>\n",
       "    </tr>\n",
       "    <tr>\n",
       "      <th>2</th>\n",
       "      <td>{'id': 3, 'name': 'Ravi Raj', 'class': '10B', ...</td>\n",
       "    </tr>\n",
       "  </tbody>\n",
       "</table>\n",
       "</div>"
      ],
      "text/plain": [
       "                                            students\n",
       "0  {'id': 1, 'name': 'Arun Kumar', 'class': '10A'...\n",
       "1  {'id': 2, 'name': 'Priya Sharma', 'class': '10...\n",
       "2  {'id': 3, 'name': 'Ravi Raj', 'class': '10B', ..."
      ]
     },
     "execution_count": 13,
     "metadata": {},
     "output_type": "execute_result"
    }
   ],
   "source": [
    "df_01 = pd.read_json('data/studentmarks.json')\n",
    "df_01.head()"
   ]
  },
  {
   "cell_type": "code",
   "execution_count": 16,
   "id": "97351eb7",
   "metadata": {},
   "outputs": [
    {
     "name": "stdout",
     "output_type": "stream",
     "text": [
      "   id          name class  maths  science  english  social  tamil\n",
      "0   1    Arun Kumar   10A     85       90       78      88     92\n",
      "1   2  Priya Sharma   10A     95       89       82      91     87\n",
      "2   3      Ravi Raj   10B     76       72       80      85     90\n"
     ]
    }
   ],
   "source": [
    "import json\n",
    "# Empty list to collect flattened records\n",
    "normalized_data = []\n",
    "\n",
    "# Loop through each student and flatten manually\n",
    "for student in df_01[\"students\"]:\n",
    "    flat_record = {\n",
    "        \"id\": student[\"id\"],\n",
    "        \"name\": student[\"name\"],\n",
    "        \"class\": student[\"class\"]\n",
    "    }\n",
    "    \n",
    "    # Add marks to the flat record\n",
    "    for subject, score in student[\"marks\"].items():\n",
    "        flat_record[subject] = score\n",
    "    \n",
    "    # Add the flat record to our list\n",
    "    normalized_data.append(flat_record)\n",
    "\n",
    "# # Convert to DataFrame\n",
    "df = pd.DataFrame(normalized_data)\n",
    "\n",
    "# # Display the result\n",
    "print(df)\n"
   ]
  },
  {
   "cell_type": "code",
   "execution_count": 15,
   "id": "38191873",
   "metadata": {},
   "outputs": [
    {
     "data": {
      "text/plain": [
       "{'id': 3,\n",
       " 'name': 'Ravi Raj',\n",
       " 'class': '10B',\n",
       " 'maths': 76,\n",
       " 'science': 72,\n",
       " 'english': 80,\n",
       " 'social': 85,\n",
       " 'tamil': 90}"
      ]
     },
     "execution_count": 15,
     "metadata": {},
     "output_type": "execute_result"
    }
   ],
   "source": [
    "flat_record"
   ]
  },
  {
   "cell_type": "markdown",
   "id": "a9b719e9",
   "metadata": {},
   "source": [
    "# another dataset to explore all the arguments under read_csv() method"
   ]
  },
  {
   "cell_type": "code",
   "execution_count": 17,
   "id": "8ca02634",
   "metadata": {},
   "outputs": [],
   "source": [
    "import pandas as pd\n",
    "from datetime import datetime\n",
    "\n",
    "# custom date parser\n",
    "dateparse = lambda x: datetime.strptime(x, \"%d-%m-%Y\") if \"-\" in x else pd.to_datetime(x)\n"
   ]
  },
  {
   "cell_type": "code",
   "execution_count": null,
   "id": "27029beb",
   "metadata": {},
   "outputs": [
    {
     "name": "stderr",
     "output_type": "stream",
     "text": [
      "C:\\Users\\Laptop\\AppData\\Local\\Temp\\ipykernel_14644\\3070291560.py:5: FutureWarning: The argument 'date_parser' is deprecated and will be removed in a future version. Please use 'date_format' instead, or read your data in as 'object' dtype and then call 'to_datetime'.\n",
      "  df = pd.read_csv(\n"
     ]
    }
   ],
   "source": [
    "from dateutil import parser\n",
    "\n",
    "# Custom date parser function using dateutil.parser\n",
    "# It parses date strings with dayfirst format and strips whitespace\n",
    "dateparse = lambda x: parser.parse(x.strip(), dayfirst=True)\n",
    "\n",
    "# Read CSV file with various options to handle complex data\n",
    "df = pd.read_csv(\n",
    "    \"data/sample_data.csv\",                # Path to the CSV file\n",
    "    sep=\"|\",                              # Use '|' as column separator\n",
    "    header=0,                             # First row contains column names\n",
    "    names=[\"emp_id\", \"full_name\", \"age\", \"salary\", \"join_date\", \"active\", \"notes\"],  # Explicit column names\n",
    "    index_col=\"emp_id\",                   # Set 'emp_id' as index\n",
    "    usecols=[\"emp_id\", \"full_name\", \"age\", \"salary\", \"join_date\", \"active\"],         # Only read these columns\n",
    "    dtype={\"age\": \"float64\"},             # Set 'age' column type to float\n",
    "    na_values=[\"NA\", \"N/A\", \"-\", \" NA \", \"NA \", \" N/A \"],  # Treat these as missing values\n",
    "    skipinitialspace=True,                # Ignore spaces after delimiter\n",
    "    thousands=\",\",                        # Handle thousands separator in numbers\n",
    "    decimal=\".\",                          # Decimal point character\n",
    "    parse_dates=[\"join_date\"],            # Parse 'join_date' as datetime\n",
    "    date_parser=dateparse,                # Use custom date parser for dates\n",
    "    true_values=[\"YES\", \"TRUE\"],          # Values to interpret as True\n",
    "    false_values=[\"NO\", \"FALSE\"],         # Values to interpret as False\n",
    "    comment=\"#\",                          # Ignore lines starting with '#'\n",
    "    on_bad_lines=\"warn\",                  # Warn if there are malformed lines\n",
    "    encoding=\"utf-8\"                      # File encoding\n",
    ")\n"
   ]
  },
  {
   "cell_type": "code",
   "execution_count": 23,
   "id": "02540d46",
   "metadata": {},
   "outputs": [
    {
     "data": {
      "text/html": [
       "<div>\n",
       "<style scoped>\n",
       "    .dataframe tbody tr th:only-of-type {\n",
       "        vertical-align: middle;\n",
       "    }\n",
       "\n",
       "    .dataframe tbody tr th {\n",
       "        vertical-align: top;\n",
       "    }\n",
       "\n",
       "    .dataframe thead th {\n",
       "        text-align: right;\n",
       "    }\n",
       "</style>\n",
       "<table border=\"1\" class=\"dataframe\">\n",
       "  <thead>\n",
       "    <tr style=\"text-align: right;\">\n",
       "      <th></th>\n",
       "      <th>full_name</th>\n",
       "      <th>age</th>\n",
       "      <th>salary</th>\n",
       "      <th>join_date</th>\n",
       "      <th>active</th>\n",
       "    </tr>\n",
       "    <tr>\n",
       "      <th>emp_id</th>\n",
       "      <th></th>\n",
       "      <th></th>\n",
       "      <th></th>\n",
       "      <th></th>\n",
       "      <th></th>\n",
       "    </tr>\n",
       "  </thead>\n",
       "  <tbody>\n",
       "    <tr>\n",
       "      <th>1</th>\n",
       "      <td>Arun, Kumar</td>\n",
       "      <td>28.0</td>\n",
       "      <td>50,000.50</td>\n",
       "      <td>2020-02-01</td>\n",
       "      <td>YES</td>\n",
       "    </tr>\n",
       "    <tr>\n",
       "      <th>2</th>\n",
       "      <td>Priya Sharma</td>\n",
       "      <td>NaN</td>\n",
       "      <td>75,000.00</td>\n",
       "      <td>2021-03-15</td>\n",
       "      <td>NO</td>\n",
       "    </tr>\n",
       "    <tr>\n",
       "      <th>3</th>\n",
       "      <td>Mohan \\Mo\\\" Raj\"</td>\n",
       "      <td>35.0</td>\n",
       "      <td>1,20,000.75</td>\n",
       "      <td>2020-01-07</td>\n",
       "      <td>TRUE</td>\n",
       "    </tr>\n",
       "    <tr>\n",
       "      <th>4</th>\n",
       "      <td>Karthick AG</td>\n",
       "      <td>42.0</td>\n",
       "      <td>N/A</td>\n",
       "      <td>2021-12-31</td>\n",
       "      <td>FALSE</td>\n",
       "    </tr>\n",
       "  </tbody>\n",
       "</table>\n",
       "</div>"
      ],
      "text/plain": [
       "                full_name   age        salary  join_date  active\n",
       "emp_id                                                          \n",
       "1            Arun, Kumar   28.0    50,000.50  2020-02-01    YES \n",
       "2           Priya Sharma    NaN    75,000.00  2021-03-15     NO \n",
       "3       Mohan \\Mo\\\" Raj\"   35.0  1,20,000.75  2020-01-07   TRUE \n",
       "4            Karthick AG   42.0          N/A  2021-12-31  FALSE "
      ]
     },
     "execution_count": 23,
     "metadata": {},
     "output_type": "execute_result"
    }
   ],
   "source": [
    "df.head()"
   ]
  }
 ],
 "metadata": {
  "kernelspec": {
   "display_name": "ds",
   "language": "python",
   "name": "python3"
  },
  "language_info": {
   "codemirror_mode": {
    "name": "ipython",
    "version": 3
   },
   "file_extension": ".py",
   "mimetype": "text/x-python",
   "name": "python",
   "nbconvert_exporter": "python",
   "pygments_lexer": "ipython3",
   "version": "3.13.5"
  }
 },
 "nbformat": 4,
 "nbformat_minor": 5
}
