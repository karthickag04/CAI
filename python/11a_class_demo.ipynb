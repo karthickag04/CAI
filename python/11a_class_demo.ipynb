{
 "cells": [
  {
   "cell_type": "code",
   "execution_count": 2,
   "metadata": {},
   "outputs": [],
   "source": [
    "def house():\n",
    "    print(\"we have a house\")\n",
    "def car():\n",
    "    print(\"we have a car\")\n",
    "def bike():\n",
    "    print(\"we have a bike\")"
   ]
  },
  {
   "cell_type": "code",
   "execution_count": 16,
   "metadata": {},
   "outputs": [],
   "source": [
    "def house(a):\n",
    "    location=a\n",
    "    print(\"we have a house at \", location)\n"
   ]
  },
  {
   "cell_type": "code",
   "execution_count": 17,
   "metadata": {},
   "outputs": [
    {
     "name": "stdout",
     "output_type": "stream",
     "text": [
      "we have a house at  Chennai\n"
     ]
    }
   ],
   "source": [
    "house(\"Chennai\")"
   ]
  },
  {
   "cell_type": "code",
   "execution_count": 23,
   "metadata": {},
   "outputs": [],
   "source": [
    "class parent():\n",
    "\n",
    "    def __init__(self, bikename, location):\n",
    "        self.bikename=bikename\n",
    "        self.location=location\n",
    "\n",
    "    def house(self):\n",
    "        print(\"we have a house at  \", self.location)\n",
    "    def car(self):\n",
    "        print(\"we have a car\")\n",
    "    def bike(self):\n",
    "        print(\"we have a bike\", self.bikename)"
   ]
  },
  {
   "cell_type": "code",
   "execution_count": null,
   "metadata": {},
   "outputs": [],
   "source": []
  },
  {
   "cell_type": "code",
   "execution_count": 25,
   "metadata": {},
   "outputs": [],
   "source": [
    "p=parent(\"TVS\", \"Trichy\")"
   ]
  },
  {
   "cell_type": "code",
   "execution_count": 31,
   "metadata": {},
   "outputs": [
    {
     "name": "stdout",
     "output_type": "stream",
     "text": [
      "we have a house at   Trichy\n",
      "we have a car\n",
      "we have a bike TVS\n"
     ]
    }
   ],
   "source": [
    "p.house()\n",
    "p.car()\n",
    "p.bike()"
   ]
  },
  {
   "cell_type": "code",
   "execution_count": 32,
   "metadata": {},
   "outputs": [],
   "source": [
    "class parent():\n",
    "\n",
    "    def __init__(self, bikename, location):\n",
    "        self.bikename=bikename\n",
    "        self.location=location\n",
    "    \n",
    "    def house(self):\n",
    "        print(\"we have a house at  \", self.location)\n",
    "        self.car()\n",
    "    def car(self):\n",
    "        print(\"we have a car\")\n",
    "    def bike(self):\n",
    "        print(\"we have a bike\", self.bikename)"
   ]
  },
  {
   "cell_type": "code",
   "execution_count": null,
   "metadata": {},
   "outputs": [],
   "source": []
  },
  {
   "cell_type": "code",
   "execution_count": 34,
   "metadata": {},
   "outputs": [
    {
     "name": "stdout",
     "output_type": "stream",
     "text": [
      "we have a house at   chennai\n",
      "we have a car\n"
     ]
    }
   ],
   "source": [
    "p1=parent('TVS', \"chennai\")\n",
    "p1.house()"
   ]
  },
  {
   "cell_type": "code",
   "execution_count": 51,
   "metadata": {},
   "outputs": [],
   "source": [
    "class parent():\n",
    "\n",
    "    def __init__(self, bikename, location, house):\n",
    "        self.bikename=bikename\n",
    "        self.location=location\n",
    "        self.house=house\n",
    "    \n",
    "    def get_house(self):\n",
    "        return self.house \n",
    "    def get_car(self):\n",
    "        return self.car\n",
    "    def get_bike(self):\n",
    "        return self.bike"
   ]
  },
  {
   "cell_type": "code",
   "execution_count": 52,
   "metadata": {},
   "outputs": [],
   "source": [
    "p12=parent('tvs','Trichy','rent')"
   ]
  },
  {
   "cell_type": "code",
   "execution_count": 57,
   "metadata": {},
   "outputs": [
    {
     "name": "stdout",
     "output_type": "stream",
     "text": [
      "True\n"
     ]
    }
   ],
   "source": [
    "print(p12.get_house()==\"rent\")"
   ]
  }
 ],
 "metadata": {
  "kernelspec": {
   "display_name": "base",
   "language": "python",
   "name": "python3"
  },
  "language_info": {
   "codemirror_mode": {
    "name": "ipython",
    "version": 3
   },
   "file_extension": ".py",
   "mimetype": "text/x-python",
   "name": "python",
   "nbconvert_exporter": "python",
   "pygments_lexer": "ipython3",
   "version": "3.11.7"
  }
 },
 "nbformat": 4,
 "nbformat_minor": 2
}
