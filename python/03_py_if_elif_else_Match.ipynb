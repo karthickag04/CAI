{
 "cells": [
  {
   "cell_type": "markdown",
   "metadata": {},
   "source": [
    "IF Statement"
   ]
  },
  {
   "cell_type": "code",
   "execution_count": 18,
   "metadata": {},
   "outputs": [
    {
     "name": "stdout",
     "output_type": "stream",
     "text": [
      "x is less than or equal to 1\n"
     ]
    }
   ],
   "source": [
    "x=0\n",
    "if(x>1):\n",
    "    print(\"x is greater than 1\")\n",
    "    print(\"x is greater than 1\")\n",
    "    print(\"x is greater than 1\")\n",
    "    print(\"x is greater than 1\")\n",
    "    print(\"x is greater than 1\")\n",
    "else:\n",
    "    print(\"x is less than or equal to 1\")"
   ]
  },
  {
   "cell_type": "markdown",
   "metadata": {},
   "source": [
    "Nested if statement"
   ]
  },
  {
   "cell_type": "code",
   "execution_count": 23,
   "metadata": {},
   "outputs": [
    {
     "name": "stdout",
     "output_type": "stream",
     "text": [
      "x is equal to 501\n"
     ]
    }
   ],
   "source": [
    "x=501\n",
    "if(x>10):\n",
    "    if(x==50):\n",
    "        print(\"x is equal to 50\")\n",
    "    elif(x==501):\n",
    "        print(\"x is equal to 501\")\n",
    "    else:\n",
    "        print(x,\" is greater than 10\")\n",
    "        print(f\"{x} is greater than 10\")\n",
    "        print(f\"{x,x} is greater than 10\")\n",
    "\n",
    "elif(x==10):\n",
    "    print(\"x is equal to 10\")\n",
    "elif(x==20):\n",
    "    print(\"x is equal to 20\")\n",
    "\n",
    "else:\n",
    "    print(\"x is less than 10\")"
   ]
  },
  {
   "cell_type": "code",
   "execution_count": 34,
   "metadata": {},
   "outputs": [
    {
     "name": "stdout",
     "output_type": "stream",
     "text": [
      "you are not eligibile to vote due to other state\n"
     ]
    }
   ],
   "source": [
    "country=\"india\"\n",
    "state='kl'\n",
    "age=20\n",
    "\n",
    "if(country=='india' and age>=18 and age<=150 and state==\"tn\"):\n",
    "    print(\"you are eligible to vote\")\n",
    "else:\n",
    "    if(not(age>=18 and age<=150)):\n",
    "        print(\"you are not eligible to vote due to age\")\n",
    "    elif(state!='tn'):\n",
    "        print(\"you are not eligibile to vote due to other state\")\n"
   ]
  },
  {
   "cell_type": "markdown",
   "metadata": {},
   "source": [
    "Function demo"
   ]
  },
  {
   "cell_type": "code",
   "execution_count": 38,
   "metadata": {},
   "outputs": [],
   "source": [
    "\n",
    "def vote_check(country,state,age):\n",
    "   \n",
    "    if(country=='india' and age>=18 and age<=150 and state==\"tn\"):\n",
    "        print(\"you are eligible to vote\")\n",
    "    else:\n",
    "        if(not(age>=18 and age<=150)):\n",
    "            print(\"you are not eligible to vote due to age\")\n",
    "        elif(state!='tn'):\n",
    "            print(\"you are not eligibile to vote due to other state\")\n"
   ]
  },
  {
   "cell_type": "code",
   "execution_count": 41,
   "metadata": {},
   "outputs": [
    {
     "name": "stdout",
     "output_type": "stream",
     "text": [
      "you are eligible to vote\n",
      "you are not eligibile to vote due to other state\n",
      "you are not eligibile to vote due to other state\n"
     ]
    }
   ],
   "source": [
    "vote_check('india','tn',20)\n",
    "vote_check('india','kl',20)\n",
    "vote_check('US','ny',20)\n"
   ]
  },
  {
   "cell_type": "markdown",
   "metadata": {},
   "source": [
    "Match in python (switch)"
   ]
  },
  {
   "cell_type": "code",
   "execution_count": 10,
   "metadata": {},
   "outputs": [],
   "source": [
    "def check_calc(a, b, op):\n",
    "    match op:\n",
    "        case \"+\":\n",
    "            return a + b  # Addition\n",
    "        case \"-\":\n",
    "            return a - b  # Subtraction\n",
    "        case \"*\":\n",
    "            return a * b  # Multiplication\n",
    "        case \"%\":\n",
    "            return a % b  # Modulus\n",
    "        case \"/\":\n",
    "            if b == 0:\n",
    "                return \"Error: Division by zero\"  # Avoid division by zero\n",
    "            return a / b  # Division\n",
    "        case _:\n",
    "            return \"Unknown operator\"\n",
    "\n"
   ]
  },
  {
   "cell_type": "code",
   "execution_count": 11,
   "metadata": {},
   "outputs": [
    {
     "name": "stdout",
     "output_type": "stream",
     "text": [
      "15\n",
      "1\n"
     ]
    }
   ],
   "source": [
    "# Example usage\n",
    "print(check_calc(10, 5, \"+\"))  # Output: 15\n",
    "print(check_calc(11, 5, \"%\"))  # Output: \n"
   ]
  }
 ],
 "metadata": {
  "kernelspec": {
   "display_name": "base",
   "language": "python",
   "name": "python3"
  },
  "language_info": {
   "codemirror_mode": {
    "name": "ipython",
    "version": 3
   },
   "file_extension": ".py",
   "mimetype": "text/x-python",
   "name": "python",
   "nbconvert_exporter": "python",
   "pygments_lexer": "ipython3",
   "version": "3.11.7"
  }
 },
 "nbformat": 4,
 "nbformat_minor": 2
}
