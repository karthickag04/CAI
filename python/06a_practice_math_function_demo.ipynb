{
 "cells": [
  {
   "cell_type": "code",
   "execution_count": 1,
   "metadata": {},
   "outputs": [],
   "source": [
    "import math"
   ]
  },
  {
   "cell_type": "code",
   "execution_count": 4,
   "metadata": {},
   "outputs": [
    {
     "name": "stdout",
     "output_type": "stream",
     "text": [
      "Pi: 3.141592653589793\n",
      "Euler's Number: 2.718281828459045\n",
      "Tau: 6.283185307179586\n"
     ]
    }
   ],
   "source": [
    "\n",
    "# Constants\n",
    "print(\"Pi:\", math.pi)\n",
    "print(\"Euler's Number:\", math.e)\n",
    "print(\"Tau:\", math.tau)"
   ]
  },
  {
   "cell_type": "code",
   "execution_count": 5,
   "metadata": {},
   "outputs": [
    {
     "name": "stdout",
     "output_type": "stream",
     "text": [
      "Sine of 90 degrees: 1.0\n",
      "Cosine of 0 degrees: 1.0\n",
      "Tangent of 45 degrees: 0.9999999999999999\n"
     ]
    }
   ],
   "source": [
    "# Trigonometric Functions\n",
    "print(\"Sine of 90 degrees:\", math.sin(math.radians(90)))\n",
    "print(\"Cosine of 0 degrees:\", math.cos(math.radians(0)))\n",
    "print(\"Tangent of 45 degrees:\", math.tan(math.radians(45)))\n"
   ]
  },
  {
   "cell_type": "code",
   "execution_count": 2,
   "metadata": {},
   "outputs": [
    {
     "name": "stdout",
     "output_type": "stream",
     "text": [
      "Square root of 16: 2.8284271247461903\n",
      "3 raised to the power of 4: 27.0\n"
     ]
    }
   ],
   "source": [
    "# Power and Square Root Functions\n",
    "print(\"Square root of 16:\", math.sqrt(8))\n",
    "print(\"3 raised to the power of 4:\", math.pow(3, 3))\n"
   ]
  },
  {
   "cell_type": "code",
   "execution_count": 6,
   "metadata": {},
   "outputs": [
    {
     "name": "stdout",
     "output_type": "stream",
     "text": [
      "Ceiling of 2.3: 3\n",
      "Floor of 2.7: 2\n",
      "Absolute value of -5: 5.0\n"
     ]
    }
   ],
   "source": [
    "# Rounding Functions\n",
    "print(\"Ceiling of 2.3:\", math.ceil(2.3))\n",
    "print(\"Floor of 2.7:\", math.floor(2.9))\n",
    "print(\"Absolute value of -5:\", math.fabs(-5))"
   ]
  },
  {
   "cell_type": "code",
   "execution_count": 44,
   "metadata": {},
   "outputs": [
    {
     "name": "stdout",
     "output_type": "stream",
     "text": [
      "Random number between 0 and 1: 0.7381066551258261\n"
     ]
    }
   ],
   "source": [
    "import random\n",
    "\n",
    "# Random number between 0 and 1\n",
    "print(\"Random number between 0 and 1:\", random.random())"
   ]
  },
  {
   "cell_type": "code",
   "execution_count": 78,
   "metadata": {},
   "outputs": [
    {
     "name": "stdout",
     "output_type": "stream",
     "text": [
      "Random integer between 1 and 10: 693217\n"
     ]
    }
   ],
   "source": [
    "# Random integer between 1 and 10\n",
    "print(\"Random integer between 1 and 10:\", random.randint(100000, 999999))\n"
   ]
  },
  {
   "cell_type": "code",
   "execution_count": 81,
   "metadata": {},
   "outputs": [
    {
     "name": "stdout",
     "output_type": "stream",
     "text": [
      "Random choice from list: 5\n"
     ]
    }
   ],
   "source": [
    "listofvalues = [1, 2, 3, 4, 5]\n",
    "print(\"Random choice from list:\", random.choice(listofvalues))\n"
   ]
  },
  {
   "cell_type": "code",
   "execution_count": 91,
   "metadata": {},
   "outputs": [
    {
     "name": "stdout",
     "output_type": "stream",
     "text": [
      "Shuffled list: [3, 5, 2, 1, 4]\n"
     ]
    }
   ],
   "source": [
    "random.shuffle(listofvalues)\n",
    "print(\"Shuffled list:\", listofvalues)"
   ]
  },
  {
   "cell_type": "code",
   "execution_count": 97,
   "metadata": {},
   "outputs": [],
   "source": [
    "def add(x,y) : \n",
    "    \n",
    "    return x+y"
   ]
  },
  {
   "cell_type": "code",
   "execution_count": 94,
   "metadata": {},
   "outputs": [
    {
     "data": {
      "text/plain": [
       "32"
      ]
     },
     "execution_count": 94,
     "metadata": {},
     "output_type": "execute_result"
    }
   ],
   "source": [
    "add(12,20)"
   ]
  },
  {
   "cell_type": "code",
   "execution_count": 98,
   "metadata": {},
   "outputs": [],
   "source": [
    "add1 = lambda a, b : a + b"
   ]
  },
  {
   "cell_type": "code",
   "execution_count": 96,
   "metadata": {},
   "outputs": [
    {
     "name": "stdout",
     "output_type": "stream",
     "text": [
      "44\n",
      "44\n"
     ]
    }
   ],
   "source": [
    "print(add(22,22))\n",
    "print(add1(22,22))"
   ]
  },
  {
   "cell_type": "code",
   "execution_count": null,
   "metadata": {},
   "outputs": [],
   "source": []
  }
 ],
 "metadata": {
  "kernelspec": {
   "display_name": "Python 3",
   "language": "python",
   "name": "python3"
  },
  "language_info": {
   "codemirror_mode": {
    "name": "ipython",
    "version": 3
   },
   "file_extension": ".py",
   "mimetype": "text/x-python",
   "name": "python",
   "nbconvert_exporter": "python",
   "pygments_lexer": "ipython3",
   "version": "3.11.7"
  }
 },
 "nbformat": 4,
 "nbformat_minor": 2
}
