{
 "cells": [
  {
   "cell_type": "code",
   "execution_count": 9,
   "id": "import-libraries",
   "metadata": {},
   "outputs": [
    {
     "name": "stdout",
     "output_type": "stream",
     "text": [
      "images\\download.jfif\n",
      "result\\image1.txt\n",
      "Extracted Text:\n",
      " Optimism is a happiness\n",
      "‘magnet. If you stay\n",
      "positive good things and\n",
      "‘good people will be\n",
      "\n",
      "drawn to you.\n",
      "\n",
      "+\n",
      "\n",
      "Text saved successfully.\n"
     ]
    }
   ],
   "source": [
    "# Import necessary libraries\n",
    "import pytesseract\n",
    "from PIL import Image\n",
    "import os\n",
    "\n",
    "# Set up Tesseract-OCR path (Change this based on your OS)\n",
    "pytesseract.pytesseract.tesseract_cmd = r\"C:\\\\Program Files\\\\Tesseract-OCR\\\\tesseract.exe\"\n",
    "\n",
    "# Define the image path (change the filename as needed)\n",
    "image_path = os.path.join(\"images\", \"download.jfif\")\n",
    "print(image_path)\n",
    "result_path = os.path.join(\"result\", \"image1.txt\")\n",
    "print(result_path)\n",
    "\n",
    "# Open the image using PIL\n",
    "image = Image.open(image_path)\n",
    "\n",
    "# Perform OCR using Pytesseract\n",
    "extracted_text = pytesseract.image_to_string(image)\n",
    "\n",
    "# Print the extracted text\n",
    "print(\"Extracted Text:\\n\", extracted_text)\n",
    "\n",
    "# Save the extracted text into a file inside results folder\n",
    "# output_file = os.path.join(\"results/extracted_texts\", \"image1.txt\")\n",
    "with open(result_path, \"w\", encoding=\"utf-8\") as f:\n",
    "    f.write(extracted_text)\n",
    "print(\"Text saved successfully.\")"
   ]
  },
  {
   "cell_type": "code",
   "execution_count": 10,
   "id": "e867eec4",
   "metadata": {},
   "outputs": [
    {
     "name": "stdout",
     "output_type": "stream",
     "text": [
      "Extracted text saved for image1.jfif\n",
      "Extracted text saved for image2.jfif\n",
      "Extracted text saved for image3.jfif\n"
     ]
    }
   ],
   "source": [
    "# Import necessary libraries\n",
    "import pandas as pd\n",
    "import pytesseract\n",
    "from PIL import Image\n",
    "import os\n",
    "\n",
    "# Set up Tesseract-OCR path (modify if needed)\n",
    "pytesseract.pytesseract.tesseract_cmd = r\"C:\\\\Program Files\\\\Tesseract-OCR\\\\tesseract.exe\"\n",
    "\n",
    "# Load the CSV file containing image names\n",
    "csv_path = \"data/imagedataset.csv\"\n",
    "df = pd.read_csv(csv_path)\n",
    "\n",
    "# Ensure the results folder exists\n",
    "os.makedirs(\"result\", exist_ok=True)\n",
    "\n",
    "# Iterate through the CSV file and process each image\n",
    "for _, row in df.iterrows():\n",
    "    image_name = row['imagename']  # Get the image filename\n",
    "    image_path = os.path.join(\"images\", image_name)\n",
    "\n",
    "    if os.path.exists(image_path):  # Check if the image exists\n",
    "        image = Image.open(image_path)  # Open image\n",
    "        text = pytesseract.image_to_string(image)  # Extract text\n",
    "\n",
    "        # Save the extracted text to a file\n",
    "        output_file = os.path.join(\"result\", f\"{image_name}.txt\")\n",
    "        with open(output_file, \"w\", encoding=\"utf-8\") as f:\n",
    "            f.write(text)\n",
    "\n",
    "        print(f\"Extracted text saved for {image_name}\")\n",
    "    else:\n",
    "        print(f\"Warning: Image {image_name} not found!\")\n"
   ]
  },
  {
   "cell_type": "code",
   "execution_count": null,
   "id": "c3ae3fab",
   "metadata": {},
   "outputs": [],
   "source": []
  }
 ],
 "metadata": {
  "kernelspec": {
   "display_name": "Python 3",
   "language": "python",
   "name": "python3"
  },
  "language_info": {
   "codemirror_mode": {
    "name": "ipython",
    "version": 3
   },
   "file_extension": ".py",
   "mimetype": "text/x-python",
   "name": "python",
   "nbconvert_exporter": "python",
   "pygments_lexer": "ipython3",
   "version": "3.9.20"
  }
 },
 "nbformat": 4,
 "nbformat_minor": 5
}
