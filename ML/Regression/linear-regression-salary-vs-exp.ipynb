{
 "cells": [
  {
   "cell_type": "code",
   "execution_count": 12,
   "id": "5b462133",
   "metadata": {},
   "outputs": [
    {
     "name": "stdout",
     "output_type": "stream",
     "text": [
      "Requirement already satisfied: tabulate in c:\\users\\laptop\\.conda\\envs\\ds\\lib\\site-packages (0.9.0)\n",
      "Requirement already satisfied: scikit-learn in c:\\users\\laptop\\.conda\\envs\\ds\\lib\\site-packages (1.7.1)\n",
      "Requirement already satisfied: matplotlib in c:\\users\\laptop\\.conda\\envs\\ds\\lib\\site-packages (3.10.6)\n",
      "Requirement already satisfied: pandas in c:\\users\\laptop\\.conda\\envs\\ds\\lib\\site-packages (2.3.2)\n",
      "Requirement already satisfied: numpy in c:\\users\\laptop\\.conda\\envs\\ds\\lib\\site-packages (2.3.2)\n",
      "Requirement already satisfied: scipy>=1.8.0 in c:\\users\\laptop\\.conda\\envs\\ds\\lib\\site-packages (from scikit-learn) (1.16.1)\n",
      "Requirement already satisfied: joblib>=1.2.0 in c:\\users\\laptop\\.conda\\envs\\ds\\lib\\site-packages (from scikit-learn) (1.5.2)\n",
      "Requirement already satisfied: threadpoolctl>=3.1.0 in c:\\users\\laptop\\.conda\\envs\\ds\\lib\\site-packages (from scikit-learn) (3.6.0)\n",
      "Requirement already satisfied: contourpy>=1.0.1 in c:\\users\\laptop\\.conda\\envs\\ds\\lib\\site-packages (from matplotlib) (1.3.3)\n",
      "Requirement already satisfied: cycler>=0.10 in c:\\users\\laptop\\.conda\\envs\\ds\\lib\\site-packages (from matplotlib) (0.12.1)\n",
      "Requirement already satisfied: fonttools>=4.22.0 in c:\\users\\laptop\\.conda\\envs\\ds\\lib\\site-packages (from matplotlib) (4.59.2)\n",
      "Requirement already satisfied: kiwisolver>=1.3.1 in c:\\users\\laptop\\.conda\\envs\\ds\\lib\\site-packages (from matplotlib) (1.4.9)\n",
      "Requirement already satisfied: packaging>=20.0 in c:\\users\\laptop\\.conda\\envs\\ds\\lib\\site-packages (from matplotlib) (25.0)\n",
      "Requirement already satisfied: pillow>=8 in c:\\users\\laptop\\.conda\\envs\\ds\\lib\\site-packages (from matplotlib) (11.3.0)\n",
      "Requirement already satisfied: pyparsing>=2.3.1 in c:\\users\\laptop\\.conda\\envs\\ds\\lib\\site-packages (from matplotlib) (3.2.3)\n",
      "Requirement already satisfied: python-dateutil>=2.7 in c:\\users\\laptop\\.conda\\envs\\ds\\lib\\site-packages (from matplotlib) (2.9.0.post0)\n",
      "Requirement already satisfied: pytz>=2020.1 in c:\\users\\laptop\\.conda\\envs\\ds\\lib\\site-packages (from pandas) (2025.2)\n",
      "Requirement already satisfied: tzdata>=2022.7 in c:\\users\\laptop\\.conda\\envs\\ds\\lib\\site-packages (from pandas) (2025.2)\n",
      "Requirement already satisfied: six>=1.5 in c:\\users\\laptop\\.conda\\envs\\ds\\lib\\site-packages (from python-dateutil>=2.7->matplotlib) (1.17.0)\n",
      "Note: you may need to restart the kernel to use updated packages.\n"
     ]
    }
   ],
   "source": [
    "%pip install tabulate scikit-learn matplotlib pandas numpy"
   ]
  },
  {
   "cell_type": "code",
   "execution_count": 13,
   "id": "5ebe6593",
   "metadata": {
    "_cell_guid": "b1076dfc-b9ad-4769-8c92-a6c4dae69d19",
    "_uuid": "8f2839f25d086af736a60e9eeb907d3b93b6e0e5",
    "execution": {
     "iopub.execute_input": "2025-09-08T22:01:23.625907Z",
     "iopub.status.busy": "2025-09-08T22:01:23.625549Z",
     "iopub.status.idle": "2025-09-08T22:01:27.919199Z",
     "shell.execute_reply": "2025-09-08T22:01:27.918060Z"
    },
    "papermill": {
     "duration": 4.299714,
     "end_time": "2025-09-08T22:01:27.920899",
     "exception": false,
     "start_time": "2025-09-08T22:01:23.621185",
     "status": "completed"
    },
    "tags": []
   },
   "outputs": [],
   "source": [
    "\n",
    "import numpy as np # linear algebra\n",
    "import pandas as pd # data processing, CSV file I/O (e.g. pd.read_csv)\n",
    "from sklearn.linear_model import LinearRegression\n",
    "from sklearn.metrics import r2_score\n",
    "from sklearn.metrics import mean_squared_error\n",
    "from sklearn.metrics import mean_absolute_error\n",
    "import matplotlib.pyplot as plt\n",
    "from tabulate import tabulate\n",
    "\n"
   ]
  },
  {
   "cell_type": "code",
   "execution_count": 14,
   "id": "1b9b4c5f",
   "metadata": {
    "execution": {
     "iopub.execute_input": "2025-09-08T22:01:28.550237Z",
     "iopub.status.busy": "2025-09-08T22:01:28.549906Z",
     "iopub.status.idle": "2025-09-08T22:01:28.586322Z",
     "shell.execute_reply": "2025-09-08T22:01:28.585509Z"
    },
    "papermill": {
     "duration": 0.041555,
     "end_time": "2025-09-08T22:01:28.587883",
     "exception": false,
     "start_time": "2025-09-08T22:01:28.546328",
     "status": "completed"
    },
    "tags": []
   },
   "outputs": [
    {
     "data": {
      "text/html": [
       "<div>\n",
       "<style scoped>\n",
       "    .dataframe tbody tr th:only-of-type {\n",
       "        vertical-align: middle;\n",
       "    }\n",
       "\n",
       "    .dataframe tbody tr th {\n",
       "        vertical-align: top;\n",
       "    }\n",
       "\n",
       "    .dataframe thead th {\n",
       "        text-align: right;\n",
       "    }\n",
       "</style>\n",
       "<table border=\"1\" class=\"dataframe\">\n",
       "  <thead>\n",
       "    <tr style=\"text-align: right;\">\n",
       "      <th></th>\n",
       "      <th>Unnamed: 0</th>\n",
       "      <th>YearsExperience</th>\n",
       "      <th>Salary</th>\n",
       "    </tr>\n",
       "  </thead>\n",
       "  <tbody>\n",
       "    <tr>\n",
       "      <th>0</th>\n",
       "      <td>0</td>\n",
       "      <td>1.2</td>\n",
       "      <td>39344.0</td>\n",
       "    </tr>\n",
       "    <tr>\n",
       "      <th>1</th>\n",
       "      <td>1</td>\n",
       "      <td>1.4</td>\n",
       "      <td>46206.0</td>\n",
       "    </tr>\n",
       "    <tr>\n",
       "      <th>2</th>\n",
       "      <td>2</td>\n",
       "      <td>1.6</td>\n",
       "      <td>37732.0</td>\n",
       "    </tr>\n",
       "    <tr>\n",
       "      <th>3</th>\n",
       "      <td>3</td>\n",
       "      <td>2.1</td>\n",
       "      <td>43526.0</td>\n",
       "    </tr>\n",
       "    <tr>\n",
       "      <th>4</th>\n",
       "      <td>4</td>\n",
       "      <td>2.3</td>\n",
       "      <td>39892.0</td>\n",
       "    </tr>\n",
       "    <tr>\n",
       "      <th>5</th>\n",
       "      <td>5</td>\n",
       "      <td>3.0</td>\n",
       "      <td>56643.0</td>\n",
       "    </tr>\n",
       "  </tbody>\n",
       "</table>\n",
       "</div>"
      ],
      "text/plain": [
       "   Unnamed: 0  YearsExperience   Salary\n",
       "0           0              1.2  39344.0\n",
       "1           1              1.4  46206.0\n",
       "2           2              1.6  37732.0\n",
       "3           3              2.1  43526.0\n",
       "4           4              2.3  39892.0\n",
       "5           5              3.0  56643.0"
      ]
     },
     "execution_count": 14,
     "metadata": {},
     "output_type": "execute_result"
    }
   ],
   "source": [
    "#We do an exploratory analysis\n",
    "df = pd.read_csv(\"Salary_dataset.csv\")\n",
    "df.head(6)\n"
   ]
  },
  {
   "cell_type": "code",
   "execution_count": 15,
   "id": "8ae1c286",
   "metadata": {
    "execution": {
     "iopub.execute_input": "2025-09-08T22:01:28.594733Z",
     "iopub.status.busy": "2025-09-08T22:01:28.594365Z",
     "iopub.status.idle": "2025-09-08T22:01:28.602400Z",
     "shell.execute_reply": "2025-09-08T22:01:28.601361Z"
    },
    "papermill": {
     "duration": 0.013246,
     "end_time": "2025-09-08T22:01:28.604039",
     "exception": false,
     "start_time": "2025-09-08T22:01:28.590793",
     "status": "completed"
    },
    "tags": []
   },
   "outputs": [
    {
     "data": {
      "text/plain": [
       "Unnamed: 0         0\n",
       "YearsExperience    0\n",
       "Salary             0\n",
       "dtype: int64"
      ]
     },
     "execution_count": 15,
     "metadata": {},
     "output_type": "execute_result"
    }
   ],
   "source": [
    "#After checking the data we need to check for NULL values\n",
    "df.isnull().sum()\n",
    "#Since there is no NULL values we can proceed with our data cleaning"
   ]
  },
  {
   "cell_type": "code",
   "execution_count": 16,
   "id": "749ca8e7",
   "metadata": {
    "execution": {
     "iopub.execute_input": "2025-09-08T22:01:28.612273Z",
     "iopub.status.busy": "2025-09-08T22:01:28.611651Z",
     "iopub.status.idle": "2025-09-08T22:01:28.632008Z",
     "shell.execute_reply": "2025-09-08T22:01:28.630851Z"
    },
    "papermill": {
     "duration": 0.026524,
     "end_time": "2025-09-08T22:01:28.633734",
     "exception": false,
     "start_time": "2025-09-08T22:01:28.607210",
     "status": "completed"
    },
    "tags": []
   },
   "outputs": [
    {
     "data": {
      "text/html": [
       "<div>\n",
       "<style scoped>\n",
       "    .dataframe tbody tr th:only-of-type {\n",
       "        vertical-align: middle;\n",
       "    }\n",
       "\n",
       "    .dataframe tbody tr th {\n",
       "        vertical-align: top;\n",
       "    }\n",
       "\n",
       "    .dataframe thead th {\n",
       "        text-align: right;\n",
       "    }\n",
       "</style>\n",
       "<table border=\"1\" class=\"dataframe\">\n",
       "  <thead>\n",
       "    <tr style=\"text-align: right;\">\n",
       "      <th></th>\n",
       "      <th>YearsExperience</th>\n",
       "      <th>Salary</th>\n",
       "    </tr>\n",
       "  </thead>\n",
       "  <tbody>\n",
       "    <tr>\n",
       "      <th>0</th>\n",
       "      <td>1.2</td>\n",
       "      <td>39344.0</td>\n",
       "    </tr>\n",
       "    <tr>\n",
       "      <th>1</th>\n",
       "      <td>1.4</td>\n",
       "      <td>46206.0</td>\n",
       "    </tr>\n",
       "    <tr>\n",
       "      <th>2</th>\n",
       "      <td>1.6</td>\n",
       "      <td>37732.0</td>\n",
       "    </tr>\n",
       "    <tr>\n",
       "      <th>3</th>\n",
       "      <td>2.1</td>\n",
       "      <td>43526.0</td>\n",
       "    </tr>\n",
       "    <tr>\n",
       "      <th>4</th>\n",
       "      <td>2.3</td>\n",
       "      <td>39892.0</td>\n",
       "    </tr>\n",
       "    <tr>\n",
       "      <th>5</th>\n",
       "      <td>3.0</td>\n",
       "      <td>56643.0</td>\n",
       "    </tr>\n",
       "  </tbody>\n",
       "</table>\n",
       "</div>"
      ],
      "text/plain": [
       "   YearsExperience   Salary\n",
       "0              1.2  39344.0\n",
       "1              1.4  46206.0\n",
       "2              1.6  37732.0\n",
       "3              2.1  43526.0\n",
       "4              2.3  39892.0\n",
       "5              3.0  56643.0"
      ]
     },
     "execution_count": 16,
     "metadata": {},
     "output_type": "execute_result"
    }
   ],
   "source": [
    "#First we have to clean some data droping the unnamed column as is an index from the CSV File and we dont need it\n",
    "df = df.drop(columns=[\"Unnamed: 0\"])\n",
    "df.head(6)"
   ]
  },
  {
   "cell_type": "code",
   "execution_count": 17,
   "id": "6522b7c2",
   "metadata": {
    "execution": {
     "iopub.execute_input": "2025-09-08T22:01:28.641854Z",
     "iopub.status.busy": "2025-09-08T22:01:28.641426Z",
     "iopub.status.idle": "2025-09-08T22:01:29.007979Z",
     "shell.execute_reply": "2025-09-08T22:01:29.006828Z"
    },
    "papermill": {
     "duration": 0.372757,
     "end_time": "2025-09-08T22:01:29.009961",
     "exception": false,
     "start_time": "2025-09-08T22:01:28.637204",
     "status": "completed"
    },
    "tags": []
   },
   "outputs": [
    {
     "data": {
      "text/plain": [
       "Text(0.5, 1.0, 'Salary on Years Of Experience')"
      ]
     },
     "execution_count": 17,
     "metadata": {},
     "output_type": "execute_result"
    },
    {
     "data": {
      "image/png": "[encoded data removed]",
      "text/plain": [
       "<Figure size 640x480 with 1 Axes>"
      ]
     },
     "metadata": {},
     "output_type": "display_data"
    }
   ],
   "source": [
    "#We graph our dataset to see if there is an correlation with years of experience and the target variable: Salary\n",
    "plt.scatter(df['YearsExperience'],df['Salary'])\n",
    "plt.xlabel('Years Experience')\n",
    "plt.ylabel('Salary')\n",
    "plt.title('Salary on Years Of Experience')\n",
    "#As we can see there is a STRONG correlation in years of experience and salary outcome so we can start building the model"
   ]
  },
  {
   "cell_type": "code",
   "execution_count": 19,
   "id": "f69ed110",
   "metadata": {},
   "outputs": [
    {
     "data": {
      "text/plain": [
       "0      1.2\n",
       "1      1.4\n",
       "2      1.6\n",
       "3      2.1\n",
       "4      2.3\n",
       "5      3.0\n",
       "6      3.1\n",
       "7      3.3\n",
       "8      3.3\n",
       "9      3.8\n",
       "10     4.0\n",
       "11     4.1\n",
       "12     4.1\n",
       "13     4.2\n",
       "14     4.6\n",
       "15     5.0\n",
       "16     5.2\n",
       "17     5.4\n",
       "18     6.0\n",
       "19     6.1\n",
       "20     6.9\n",
       "21     7.2\n",
       "22     8.0\n",
       "23     8.3\n",
       "24     8.8\n",
       "25     9.1\n",
       "26     9.6\n",
       "27     9.7\n",
       "28    10.4\n",
       "29    10.6\n",
       "Name: YearsExperience, dtype: float64"
      ]
     },
     "execution_count": 19,
     "metadata": {},
     "output_type": "execute_result"
    }
   ],
   "source": [
    "df['YearsExperience']"
   ]
  },
  {
   "cell_type": "code",
   "execution_count": 18,
   "id": "923f9441",
   "metadata": {
    "execution": {
     "iopub.execute_input": "2025-09-08T22:01:29.018199Z",
     "iopub.status.busy": "2025-09-08T22:01:29.017902Z",
     "iopub.status.idle": "2025-09-08T22:01:29.056802Z",
     "shell.execute_reply": "2025-09-08T22:01:29.055510Z"
    },
    "papermill": {
     "duration": 0.044986,
     "end_time": "2025-09-08T22:01:29.058488",
     "exception": false,
     "start_time": "2025-09-08T22:01:29.013502",
     "status": "completed"
    },
    "tags": []
   },
   "outputs": [
    {
     "name": "stdout",
     "output_type": "stream",
     "text": [
      "[[ 1.2]\n",
      " [ 1.4]\n",
      " [ 1.6]\n",
      " [ 2.1]\n",
      " [ 2.3]\n",
      " [ 3. ]\n",
      " [ 3.1]\n",
      " [ 3.3]\n",
      " [ 3.3]\n",
      " [ 3.8]\n",
      " [ 4. ]\n",
      " [ 4.1]\n",
      " [ 4.1]\n",
      " [ 4.2]\n",
      " [ 4.6]\n",
      " [ 5. ]\n",
      " [ 5.2]\n",
      " [ 5.4]\n",
      " [ 6. ]\n",
      " [ 6.1]\n",
      " [ 6.9]\n",
      " [ 7.2]\n",
      " [ 8. ]\n",
      " [ 8.3]\n",
      " [ 8.8]\n",
      " [ 9.1]\n",
      " [ 9.6]\n",
      " [ 9.7]\n",
      " [10.4]\n",
      " [10.6]]\n"
     ]
    }
   ],
   "source": [
    "#We start constructing and training our model\n",
    "model = LinearRegression()\n",
    "Data = np.array(df['YearsExperience']).reshape(-1, 1)\n",
    "print(Data)"
   ]
  },
  {
   "cell_type": "code",
   "execution_count": 20,
   "id": "0605fd9d",
   "metadata": {},
   "outputs": [
    {
     "name": "stdout",
     "output_type": "stream",
     "text": [
      "[ 39344.  46206.  37732.  43526.  39892.  56643.  60151.  54446.  64446.\n",
      "  57190.  63219.  55795.  56958.  57082.  61112.  67939.  66030.  83089.\n",
      "  81364.  93941.  91739.  98274. 101303. 113813. 109432. 105583. 116970.\n",
      " 112636. 122392. 121873.]\n"
     ]
    }
   ],
   "source": [
    "\n",
    "Target = np.array(df['Salary'])   \n",
    "print(Target)\n"
   ]
  },
  {
   "cell_type": "code",
   "execution_count": 21,
   "id": "9779d553",
   "metadata": {},
   "outputs": [],
   "source": [
    "model.fit(Data,Target)\n",
    "#we store the outpout of the model in a data frame\n",
    "model_predict = model.predict(Data)\n"
   ]
  },
  {
   "cell_type": "code",
   "execution_count": 22,
   "id": "d7a4c8c2",
   "metadata": {},
   "outputs": [
    {
     "name": "stdout",
     "output_type": "stream",
     "text": [
      "╒═══════════════╤══════════════════╕\n",
      "│   Actual Data │   Predicted Data │\n",
      "╞═══════════════╪══════════════════╡\n",
      "│         39344 │          36188.2 │\n",
      "├───────────────┼──────────────────┤\n",
      "│         46206 │          38078.2 │\n",
      "├───────────────┼──────────────────┤\n",
      "│         37732 │          39968.1 │\n",
      "├───────────────┼──────────────────┤\n",
      "│         43526 │          44693.1 │\n",
      "├───────────────┼──────────────────┤\n",
      "│         39892 │          46583.1 │\n",
      "╘═══════════════╧══════════════════╛\n"
     ]
    }
   ],
   "source": [
    "\n",
    "#we do a table of the actual and the predict data\n",
    "table = np.column_stack((Target,model_predict))\n",
    "\n",
    "#we show it to see how far our model predicts the results from the actual data\n",
    "print(tabulate(table[:5], headers =(\"Actual Data\",\"Predicted Data\"), tablefmt = 'fancy_grid'))"
   ]
  },
  {
   "cell_type": "code",
   "execution_count": 24,
   "id": "dadeec20",
   "metadata": {
    "execution": {
     "iopub.execute_input": "2025-09-08T22:01:29.066974Z",
     "iopub.status.busy": "2025-09-08T22:01:29.066633Z",
     "iopub.status.idle": "2025-09-08T22:01:29.242144Z",
     "shell.execute_reply": "2025-09-08T22:01:29.241168Z"
    },
    "papermill": {
     "duration": 0.181402,
     "end_time": "2025-09-08T22:01:29.243650",
     "exception": false,
     "start_time": "2025-09-08T22:01:29.062248",
     "status": "completed"
    },
    "tags": []
   },
   "outputs": [
    {
     "data": {
      "image/png": "[encoded data removed]",
      "text/plain": [
       "<Figure size 640x480 with 1 Axes>"
      ]
     },
     "metadata": {},
     "output_type": "display_data"
    }
   ],
   "source": [
    "#We do the graph again but now with the linear regression plot to visualize it and how well it adheres to the model\n",
    "plt.scatter(df['YearsExperience'],df['Salary'])\n",
    "plt.plot(df['YearsExperience'],model_predict,color='r')\n",
    "plt.xlabel('Years Experience')\n",
    "plt.ylabel('Salary')\n",
    "plt.title('Salary on Years Of Experience')\n",
    "plt.show()"
   ]
  },
  {
   "cell_type": "code",
   "execution_count": 11,
   "id": "7e047adc",
   "metadata": {
    "execution": {
     "iopub.execute_input": "2025-09-08T22:01:29.253635Z",
     "iopub.status.busy": "2025-09-08T22:01:29.253295Z",
     "iopub.status.idle": "2025-09-08T22:01:29.259547Z",
     "shell.execute_reply": "2025-09-08T22:01:29.258483Z"
    },
    "papermill": {
     "duration": 0.01325,
     "end_time": "2025-09-08T22:01:29.261454",
     "exception": false,
     "start_time": "2025-09-08T22:01:29.248204",
     "status": "completed"
    },
    "tags": []
   },
   "outputs": [
    {
     "name": "stdout",
     "output_type": "stream",
     "text": [
      "R squared:  0.957\n"
     ]
    }
   ],
   "source": [
    "#Then we evaluate our model to see how good we did\n",
    "R_squared = np.round(r2_score(Target, model_predict),4)\n",
    "print(\"R squared: \",R_squared)"
   ]
  }
 ],
 "metadata": {
  "kaggle": {
   "accelerator": "none",
   "dataSources": [
    {
     "datasetId": 2799910,
     "isSourceIdPinned": false,
     "sourceId": 4832081,
     "sourceType": "datasetVersion"
    }
   ],
   "dockerImageVersionId": 31089,
   "isGpuEnabled": false,
   "isInternetEnabled": false,
   "language": "python",
   "sourceType": "notebook"
  },
  "kernelspec": {
   "display_name": "ds",
   "language": "python",
   "name": "python3"
  },
  "language_info": {
   "codemirror_mode": {
    "name": "ipython",
    "version": 3
   },
   "file_extension": ".py",
   "mimetype": "text/x-python",
   "name": "python",
   "nbconvert_exporter": "python",
   "pygments_lexer": "ipython3",
   "version": "3.13.5"
  },
  "papermill": {
   "default_parameters": {},
   "duration": 12.742432,
   "end_time": "2025-09-08T22:01:30.099736",
   "environment_variables": {},
   "exception": null,
   "input_path": "__notebook__.ipynb",
   "output_path": "__notebook__.ipynb",
   "parameters": {},
   "start_time": "2025-09-08T22:01:17.357304",
   "version": "2.6.0"
  }
 },
 "nbformat": 4,
 "nbformat_minor": 5
}
